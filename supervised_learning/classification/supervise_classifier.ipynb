{
 "cells": [
  {
   "cell_type": "code",
   "execution_count": 12,
   "metadata": {},
   "outputs": [],
   "source": [
    "import numpy as np\n",
    "import pandas as pd \n",
    "from sklearn.model_selection import train_test_split\n",
    "from sklearn.preprocessing import StandardScaler\n",
    "from sklearn.ensemble import RandomForestClassifier\n",
    "from sklearn.metrics import accuracy_score, classification_report\n",
    "from sklearn.model_selection import RandomizedSearchCV"
   ]
  },
  {
   "cell_type": "code",
   "execution_count": 9,
   "metadata": {},
   "outputs": [],
   "source": [
    "##### importing the data #####\n",
    "\n",
    "dataset = pd.read_excel('/Users/mustafa/Documents/GitHub/ML_knife_QA/data/chiefs_knife_dataset.xlsx')\n",
    "index_Ra = dataset.columns.get_loc('Ra')  # index of the surface roughness column for inserting the class. label\n",
    "\n",
    "LOWER_SPECIFICATION_LIMIT = 0.125  # lower bound of good quality product region\n",
    "UPPER_SPECIFICATION_LIMIT = 0.215  # upper bound of good quality product region\n",
    "\n",
    "is_between_specification_bounds = (dataset['Ra'] >= LOWER_SPECIFICATION_LIMIT) & (dataset['Ra'] < UPPER_SPECIFICATION_LIMIT)\n",
    "good_product_range = np.where(is_between_specification_bounds, \"good\", \"bad\")\n",
    "dataset.insert(index_Ra + 1, 'Quality', good_product_range) "
   ]
  },
  {
   "cell_type": "code",
   "execution_count": 13,
   "metadata": {},
   "outputs": [
    {
     "name": "stdout",
     "output_type": "stream",
     "text": [
      "Accuracy: 0.7555816686251469\n",
      "Classification Report:\n",
      "              precision    recall  f1-score   support\n",
      "\n",
      "         bad       0.77      0.69      0.73       798\n",
      "        good       0.75      0.81      0.78       904\n",
      "\n",
      "    accuracy                           0.76      1702\n",
      "   macro avg       0.76      0.75      0.75      1702\n",
      "weighted avg       0.76      0.76      0.75      1702\n",
      "\n"
     ]
    }
   ],
   "source": [
    "\"\"\"# constructing Label\"\"\"\n",
    "\n",
    "X = dataset.loc[:,'Original_Linienanzahl':'DFT_Median_sobel_Bereich'].values\n",
    "y = dataset['Quality'].values\n",
    "\n",
    "# Train-Test-Split\n",
    "X_train, X_test, y_train, y_test = train_test_split(X, y, test_size=0.2, random_state=42)\n",
    "\n",
    "# Feature-Skalierung\n",
    "scaler = StandardScaler()\n",
    "X_train_scaled = scaler.fit_transform(X_train)\n",
    "X_test_scaled = scaler.transform(X_test)\n",
    "\n",
    "# Modelltraining\n",
    "classifier = RandomForestClassifier(n_estimators=100, random_state=42)\n",
    "classifier.fit(X_train, y_train)\n",
    "\n",
    "# Vorhersagen\n",
    "y_pred = classifier.predict(X_test)\n",
    "\n",
    "# Evaluierung\n",
    "accuracy = accuracy_score(y_test, y_pred)\n",
    "report = classification_report(y_test, y_pred)\n",
    "print(f'Accuracy: {accuracy}')\n",
    "print(f'Classification Report:\\n{report}')"
   ]
  },
  {
   "cell_type": "code",
   "execution_count": null,
   "metadata": {},
   "outputs": [],
   "source": [
    "# Randomized Search für Random Forest Classifier\n",
    "random_search_classifier = RandomizedSearchCV(estimator=RandomForestClassifier(random_state=42),\n",
    "                                            param_distributions=param_grid, \n",
    "                                            n_iter=100, \n",
    "                                            cv=5, \n",
    "                                            n_jobs=-1, \n",
    "                                            verbose=2, \n",
    "                                            random_state=42)\n",
    "random_search_classifier.fit(X_train_clf_scaled, y_train_clf)\n",
    "print(f'Beste Hyperparameter für Classifier: {random_search_classifier.best_params_}')"
   ]
  }
 ],
 "metadata": {
  "kernelspec": {
   "display_name": "Python 3",
   "language": "python",
   "name": "python3"
  },
  "language_info": {
   "codemirror_mode": {
    "name": "ipython",
    "version": 3
   },
   "file_extension": ".py",
   "mimetype": "text/x-python",
   "name": "python",
   "nbconvert_exporter": "python",
   "pygments_lexer": "ipython3",
   "version": "3.11.4"
  },
  "orig_nbformat": 4
 },
 "nbformat": 4,
 "nbformat_minor": 2
}
